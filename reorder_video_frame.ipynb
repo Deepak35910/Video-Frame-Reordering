{
  "nbformat": 4,
  "nbformat_minor": 0,
  "metadata": {
    "colab": {
      "name": "reorder_video_frame.ipynb",
      "provenance": [],
      "collapsed_sections": []
    },
    "kernelspec": {
      "name": "python3",
      "display_name": "Python 3"
    },
    "language_info": {
      "name": "python"
    },
    "accelerator": "GPU"
  },
  "cells": [
    {
      "cell_type": "markdown",
      "metadata": {
        "id": "LJdp3YyR2mSR"
      },
      "source": [
        "In this project we will try to regenerate original video whose frames have been reshuffle. We will first read a video in its original form and then randomly shuffle frames and then using Machine Learning and Statistics will try to reorder frames to regenerate original video.\n",
        "We can do pixel to pixel comparison to group frames which are similar to each other by calculating distance between corresponding pixels but it has 2 limitations. we can get distance between frames but we don't know how to arrange them, and secondly if camera moves pixel corresponding to particular object will be in different positions and we will get larger distance between two frames which are similar to each other but taken at a slightly different angle.\n",
        "Instead of comparing pixels we can compare features of an image.\n",
        "\n",
        "INCEPTION\n",
        "\n",
        "Model likes Inception are trained on huge data to classify images. They do so by various convolution layers and then fully connected layers \n",
        "in the later part. We can use these later fully connected layers which contains information of different feature. The final fully connected \n",
        "layers is an array of numbers of length 2048. These 2048 numbers are not interpretable but we can assume each of these numbers conveys some information of a feature. For instance, one of the number may correspond to how much of chance of having a human in a given image and other number may correspond to how much of a chance of a given image having a car. So we can assume 1st value of this array is for human and high value means there are higher chance of having a person in this image and low value will correspond to a lower chance. Similarly 2nd value can be assumed to be of a car and so on. So instead of comparing pixels we will compare feature vector where compared value won’t be affected by much if camera angle changes as the features value of an image like human, car remain the same if the camera angle are slightly different for different frames. Meaning if there is a car in the image taken from slightly different angle our feature vector will still detect car with almost equal probability and thus the value corresponding to a car in the feature vector will still be similar and so would be distance between frames\n",
        "\n",
        "TSNE \n",
        "\n",
        "TSNE takes data of m dimension and reduces the dimesion to as low as 1. It reduces dimesion based on similarity. Data which are closer to each other in m dimesion are more similar to each other and are grouped together in lower dimesion. It gives similar values to Data which are closer to each other and values changes as data gets farther from each other. We can use this concept to arrange frames which are in 2048 dimesion after passing from Inception layer to reduce them to 1 dimesion We can then arrange this data as per TSNE values and hopefully we will be able to get proper sequence."
      ]
    },
    {
      "cell_type": "code",
      "metadata": {
        "id": "hBOWJKKg2nBd"
      },
      "source": [
        "import keras.applications\n",
        "#from keras.applications import inception_resnet_v2\n",
        "from keras.applications import inception_v3\n",
        "from keras.preprocessing.image import load_img, img_to_array\n",
        "from keras.models import Model, load_model\n",
        "from keras.applications.inception_v3 import preprocess_input\n",
        "import numpy as np\n",
        "from numpy.random import seed\n",
        "import cv2\n",
        "import os\n"
      ],
      "execution_count": null,
      "outputs": []
    },
    {
      "cell_type": "code",
      "metadata": {
        "colab": {
          "base_uri": "https://localhost:8080/"
        },
        "id": "qEzLh2rRw5T2",
        "outputId": "20b56a59-fea2-4b22-f861-3e739b9cd2f2"
      },
      "source": [
        "from google.colab import drive\n",
        "drive.mount('/content/gdrive')"
      ],
      "execution_count": null,
      "outputs": [
        {
          "output_type": "stream",
          "text": [
            "Drive already mounted at /content/gdrive; to attempt to forcibly remount, call drive.mount(\"/content/gdrive\", force_remount=True).\n"
          ],
          "name": "stdout"
        }
      ]
    },
    {
      "cell_type": "markdown",
      "metadata": {
        "id": "ryMFWpZby27h"
      },
      "source": [
        "Reading Video and creating a list"
      ]
    },
    {
      "cell_type": "code",
      "metadata": {
        "colab": {
          "base_uri": "https://localhost:8080/"
        },
        "id": "aUr2PNx6w5Zs",
        "outputId": "65ce1f86-d9bb-4a5e-8eeb-3aa0a8f43aee"
      },
      "source": [
        "os.chdir(\"/content/gdrive/MyDrive/Colab Notebooks\")\n",
        "vid = cv2.VideoCapture('video.avi')\n",
        "vid_width,vid_height = int(vid.get(cv2.CAP_PROP_FRAME_WIDTH)), int(vid.get(cv2.CAP_PROP_FRAME_HEIGHT))\n",
        "frame=0\n",
        "list1=[]\n",
        "while True:\n",
        "    _, img = vid.read()\n",
        "    if img is None:\n",
        "        print('Completed')\n",
        "        break\n",
        "    img = cv2.resize(img, (299, 299)) #resizing to 299,299 as a requirement for inception model\n",
        "    list1.append(cv2.cvtColor(img, cv2.COLOR_BGR2RGB)) #video and images are read after flipping 1st and 3rd  channel in opencv so before saving in a list \n",
        "                                                       #we need to do reverse flipping by cv2.COLOR_BGR2RGB to make it make to RGB mode\n",
        "    frame=frame+1\n",
        "    "
      ],
      "execution_count": null,
      "outputs": [
        {
          "output_type": "stream",
          "text": [
            "Completed\n"
          ],
          "name": "stdout"
        }
      ]
    },
    {
      "cell_type": "code",
      "metadata": {
        "colab": {
          "base_uri": "https://localhost:8080/"
        },
        "id": "uMYHWEsUw5cs",
        "outputId": "2204cb59-9931-4159-a1fe-4ed9d99ad88b"
      },
      "source": [
        "print(len(list1))\n",
        "print(frame)\n",
        "len(list1)==frame #checking if all frames are store in list"
      ],
      "execution_count": null,
      "outputs": [
        {
          "output_type": "stream",
          "text": [
            "350\n",
            "350\n"
          ],
          "name": "stdout"
        },
        {
          "output_type": "execute_result",
          "data": {
            "text/plain": [
              "True"
            ]
          },
          "metadata": {
            "tags": []
          },
          "execution_count": 32
        }
      ]
    },
    {
      "cell_type": "code",
      "metadata": {
        "colab": {
          "base_uri": "https://localhost:8080/"
        },
        "id": "YyJcMYIFw5fl",
        "outputId": "63f57f51-14cd-47f6-cbce-8fcd357f3c18"
      },
      "source": [
        "img_array=np.array(list1)  #converting list to array\n",
        "img_array.shape"
      ],
      "execution_count": null,
      "outputs": [
        {
          "output_type": "execute_result",
          "data": {
            "text/plain": [
              "(350, 299, 299, 3)"
            ]
          },
          "metadata": {
            "tags": []
          },
          "execution_count": 33
        }
      ]
    },
    {
      "cell_type": "markdown",
      "metadata": {
        "id": "imAmE9K_06iV"
      },
      "source": [
        "To run and watch video output we will use a seperate file which we will write and execute in our own system as this script is written in colab. We will save all the videos in a pickle file and then fetch these pickle files in our own system to play video"
      ]
    },
    {
      "cell_type": "code",
      "metadata": {
        "id": "BeRoTmxrKD1B"
      },
      "source": [
        "#original video\n",
        "from pickle import dump,load\n",
        "filename = r'original_video.pkl'\n",
        "dump(img_array, open(filename, 'wb'))"
      ],
      "execution_count": null,
      "outputs": []
    },
    {
      "cell_type": "markdown",
      "metadata": {
        "id": "C0tUrHNrP3zG"
      },
      "source": [
        "INCEPTION - Running inception model to get encodings of each frame"
      ]
    },
    {
      "cell_type": "code",
      "metadata": {
        "id": "A8DwHWdzw5il"
      },
      "source": [
        "inception_v3_model = inception_v3.InceptionV3(include_top=True,weights=\"imagenet\")\n",
        "#inception_v3_model.summary()\n",
        "model_inceptionv3 = Model(inception_v3_model.input, inception_v3_model.layers[-2].output)\n"
      ],
      "execution_count": null,
      "outputs": []
    },
    {
      "cell_type": "code",
      "metadata": {
        "colab": {
          "base_uri": "https://localhost:8080/"
        },
        "id": "0oUnD9Jow5lV",
        "outputId": "f4b68829-1157-436f-ba77-65f96dcd6584"
      },
      "source": [
        "img_encoded = preprocess_input(img_array)\n",
        "img_encoded = model_inceptionv3.predict(img_encoded)\n",
        "#x = np.reshape(x, x.shape[1])\n",
        "print(img_encoded.shape)"
      ],
      "execution_count": null,
      "outputs": [
        {
          "output_type": "stream",
          "text": [
            "(350, 2048)\n"
          ],
          "name": "stdout"
        }
      ]
    },
    {
      "cell_type": "markdown",
      "metadata": {
        "id": "YUciYujMQCtM"
      },
      "source": [
        "TSNE - passing the encoded vectors to TSNE\n",
        "\n",
        "We will first pass the vector for orignal video to check if there is a relation between frame and TSNE output. If there is no relation between frames and TSNE output we won't be able to use TSNE to reorder frames."
      ]
    },
    {
      "cell_type": "code",
      "metadata": {
        "colab": {
          "base_uri": "https://localhost:8080/"
        },
        "id": "lKT7GEyMw5oU",
        "outputId": "6e5a856f-3b64-4fed-eac5-c30989a0dc56"
      },
      "source": [
        "from sklearn.manifold import TSNE\n",
        "tsne = TSNE(n_components=1, verbose=1, perplexity=40, n_iter=2000,random_state=150)\n",
        "tsne_results = tsne.fit_transform(img_encoded)\n"
      ],
      "execution_count": null,
      "outputs": [
        {
          "output_type": "stream",
          "text": [
            "[t-SNE] Computing 121 nearest neighbors...\n",
            "[t-SNE] Indexed 350 samples in 0.038s...\n",
            "[t-SNE] Computed neighbors for 350 samples in 0.490s...\n",
            "[t-SNE] Computed conditional probabilities for sample 350 / 350\n",
            "[t-SNE] Mean sigma: 4.186991\n",
            "[t-SNE] KL divergence after 250 iterations with early exaggeration: 58.514709\n",
            "[t-SNE] KL divergence after 1700 iterations: 0.359083\n"
          ],
          "name": "stdout"
        }
      ]
    },
    {
      "cell_type": "markdown",
      "metadata": {
        "id": "oikuKZeKQXbc"
      },
      "source": [
        "Ploting output of TSNE in Y axis and frame number in X axis"
      ]
    },
    {
      "cell_type": "code",
      "metadata": {
        "colab": {
          "base_uri": "https://localhost:8080/",
          "height": 350
        },
        "id": "nq04ODAWw5q9",
        "outputId": "0e4ed058-71af-4b61-c1d8-ec5ee5710763"
      },
      "source": [
        "import matplotlib.pyplot as plt\n",
        "import seaborn as sns\n",
        "\n",
        "import pandas as pd\n",
        "df = pd.DataFrame({'x axis':np.arange(tsne_results.shape[0]),'Y axis':tsne_results[:,0]})\n",
        "\n",
        "\n",
        "plt.figure(figsize=(8,5))\n",
        "sns.scatterplot(\n",
        "    x=\"x axis\", y=\"Y axis\",\n",
        "    palette=sns.color_palette(\"hls\", 10),\n",
        "    data=df,\n",
        "    legend=\"full\",\n",
        "    alpha=0.3\n",
        ")"
      ],
      "execution_count": null,
      "outputs": [
        {
          "output_type": "execute_result",
          "data": {
            "text/plain": [
              "<matplotlib.axes._subplots.AxesSubplot at 0x7f2eb60ec0d0>"
            ]
          },
          "metadata": {
            "tags": []
          },
          "execution_count": 38
        },
        {
          "output_type": "display_data",
          "data": {
            "image/png": "[encoded data removed]",
            "text/plain": [
              "<Figure size 576x360 with 1 Axes>"
            ]
          },
          "metadata": {
            "tags": [],
            "needs_background": "light"
          }
        }
      ]
    },
    {
      "cell_type": "markdown",
      "metadata": {
        "id": "a5VufX7gQiD0"
      },
      "source": [
        "As we can see from graph that there is a relation between frame and TSNE output. There is infact a high positive correlation. Initial frames have lower value and as new frames keep coming up values keeps increasing \n",
        "\n",
        "So we can use this information when frame is not in sequence. We will see no relation between the output and out of order frames but we know from above graph that lower values corresponds to initial frames and higher value corresponds to later frame. so we can just sort the TSNE results in ascending order to get proper frame sequence."
      ]
    },
    {
      "cell_type": "code",
      "metadata": {
        "colab": {
          "base_uri": "https://localhost:8080/"
        },
        "id": "Tc8Wp7aRAWPG",
        "outputId": "fa351f4a-574a-4fc8-dbc6-44ce1b778fc1"
      },
      "source": [
        "print(tsne_results.min())\n",
        "print(tsne_results.max())\n",
        "tsne_results.shape\n"
      ],
      "execution_count": null,
      "outputs": [
        {
          "output_type": "stream",
          "text": [
            "-41.251568\n",
            "28.666126\n"
          ],
          "name": "stdout"
        },
        {
          "output_type": "execute_result",
          "data": {
            "text/plain": [
              "(350, 1)"
            ]
          },
          "metadata": {
            "tags": []
          },
          "execution_count": 39
        }
      ]
    },
    {
      "cell_type": "code",
      "metadata": {
        "colab": {
          "base_uri": "https://localhost:8080/"
        },
        "id": "tWKg0MUpAWSM",
        "outputId": "95591428-e9a9-4a5d-9af2-da883cc84f53"
      },
      "source": [
        "reorder_id=np.argsort(tsne_results.squeeze()) #sorting the frame sequence as per TSNE values in ascending order, getting IDs(frame number)\n",
        "print(reorder_id)"
      ],
      "execution_count": null,
      "outputs": [
        {
          "output_type": "stream",
          "text": [
            "[335 272 285 347   0   2   1   3   4   5   6   7   8  11   9  13  10  12\n",
            "  14  15  16  17  18  19  20  21  22  23  25  24  26  28  29  27  30  31\n",
            "  32  33  34  35  36  37  38  39  40  41  42  43  44  45  46  47  49  50\n",
            "  48  51  52  53  54  55  56  57  58  61  60  59  62  63  64  65  67  66\n",
            "  70  68  69  71  72  73  74  75  76  77  78  79  81  80  82  86  83  84\n",
            "  87  85  88  89  90  91  92  93  95  94  99  96  98  97 100 102 101 103\n",
            " 104 105 107 106 108 109 110 111 112 113 114 115 118 117 116 119 120 121\n",
            " 122 125 124 123 126 127 128 129 130 131 132 133 134 140 135 139 136 137\n",
            " 138 141 142 143 144 145 149 146 147 148 150 154 151 152 153 155 159 156\n",
            " 158 160 157 161 162 165 163 164 166 168 169 167 170 171 172 173 174 175\n",
            " 177 176 178 179 180 181 182 183 184 189 190 188 185 187 186 191 192 193\n",
            " 194 195 198 196 197 199 201 200 202 203 204 205 210 215 209 214 206 213\n",
            " 211 208 207 216 212 217 218 219 221 222 224 223 226 225 220 227 228 229\n",
            " 230 231 232 233 234 235 236 237 238 239 240 241 242 243 244 245 246 247\n",
            " 348 349 341 344 342 343 345 346 248 249 251 250 253 252 254 255 256 257\n",
            " 263 262 261 260 259 258 265 264 266 270 271 267 273 274 268 269 277 275\n",
            " 278 276 279 282 280 283 281 284 286 287 288 290 289 291 292 293 294 295\n",
            " 298 297 296 302 299 301 303 300 304 305 306 307 308 309 310 311 312 315\n",
            " 316 314 313 317 318 319 320 321 322 323 324 325 326 327 328 329 330 331\n",
            " 332 333 334 337 336 338 339 340]\n"
          ],
          "name": "stdout"
        }
      ]
    },
    {
      "cell_type": "code",
      "metadata": {
        "id": "GLK45mi4Kg-C",
        "colab": {
          "base_uri": "https://localhost:8080/"
        },
        "outputId": "f91920c2-433b-49a1-89b6-4e99558875aa"
      },
      "source": [
        "#Creating new video as per TSNE results , frames with lower value will be placed before frames with higher values \n",
        "img_array_result_list=[]\n",
        "for i,j in enumerate(reorder_id):\n",
        "    img_array_result_list.append(img_array[j])\n",
        "img_array_result=np.array(img_array_result_list)    \n",
        "img_array_result.shape"
      ],
      "execution_count": null,
      "outputs": [
        {
          "output_type": "execute_result",
          "data": {
            "text/plain": [
              "(350, 299, 299, 3)"
            ]
          },
          "metadata": {
            "tags": []
          },
          "execution_count": 41
        }
      ]
    },
    {
      "cell_type": "code",
      "metadata": {
        "id": "1cA574M6KhYX"
      },
      "source": [
        "#output video generated from original video, storing in a pickle file\n",
        "from pickle import dump,load\n",
        "filename = r'original_video_result.pkl'\n",
        "dump(img_array_result, open(filename, 'wb'))\n",
        "\n",
        "\n"
      ],
      "execution_count": null,
      "outputs": []
    },
    {
      "cell_type": "markdown",
      "metadata": {
        "id": "iaTelj4STwy5"
      },
      "source": [
        "We got good results on original video now lets try on shuffled video frame"
      ]
    },
    {
      "cell_type": "code",
      "metadata": {
        "colab": {
          "base_uri": "https://localhost:8080/"
        },
        "id": "ZvXZMvS89sct",
        "outputId": "c827801c-67d5-47ca-811b-8f47e9f4b350"
      },
      "source": [
        "#creating a new array with length same as number of frame but in random order where values are shuffle between 0 and total number of frames\n",
        "#each value corresponds to frame number so first value is 61 so 61st frame will be our first frame and so on\n",
        "seed(50)\n",
        "arr = np.arange(len(list1))\n",
        "np.random.shuffle(arr)\n",
        "arr=arr.tolist()\n",
        "print(arr,len(arr))"
      ],
      "execution_count": null,
      "outputs": [
        {
          "output_type": "stream",
          "text": [
            "[61, 208, 103, 168, 232, 167, 304, 86, 63, 88, 235, 344, 67, 11, 330, 136, 294, 126, 89, 252, 210, 98, 29, 121, 148, 87, 107, 31, 162, 182, 314, 269, 46, 219, 230, 3, 236, 1, 16, 124, 161, 338, 166, 305, 77, 90, 102, 44, 284, 195, 81, 270, 8, 248, 20, 108, 214, 160, 254, 114, 322, 247, 34, 159, 65, 50, 243, 151, 196, 318, 73, 257, 222, 286, 157, 203, 141, 341, 145, 340, 251, 97, 146, 231, 74, 25, 317, 268, 115, 212, 99, 48, 43, 306, 292, 85, 234, 15, 100, 310, 37, 307, 18, 342, 244, 153, 185, 226, 9, 331, 66, 24, 328, 204, 112, 127, 180, 39, 311, 135, 259, 297, 227, 279, 19, 198, 84, 260, 321, 138, 41, 144, 72, 82, 10, 274, 215, 200, 207, 183, 191, 32, 202, 83, 33, 217, 295, 181, 201, 53, 158, 175, 76, 290, 12, 177, 245, 209, 119, 329, 129, 69, 253, 123, 249, 38, 23, 178, 239, 125, 213, 283, 261, 319, 308, 96, 188, 327, 40, 280, 172, 194, 42, 348, 313, 298, 316, 122, 170, 140, 190, 59, 255, 35, 216, 205, 149, 179, 291, 21, 113, 301, 54, 120, 276, 169, 238, 246, 28, 263, 206, 349, 324, 339, 220, 22, 225, 242, 241, 293, 272, 173, 326, 312, 52, 281, 296, 150, 104, 2, 184, 142, 264, 118, 13, 165, 193, 277, 346, 309, 240, 55, 80, 271, 58, 64, 187, 137, 223, 57, 282, 233, 30, 302, 116, 325, 117, 14, 75, 273, 56, 256, 343, 131, 335, 7, 155, 267, 303, 332, 17, 111, 68, 337, 5, 143, 27, 171, 224, 347, 4, 78, 300, 164, 262, 92, 197, 47, 275, 288, 101, 285, 265, 189, 211, 45, 192, 186, 128, 228, 36, 199, 62, 174, 334, 152, 156, 51, 336, 333, 139, 315, 94, 221, 93, 0, 110, 266, 323, 60, 26, 105, 79, 130, 147, 6, 320, 106, 49, 287, 299, 134, 218, 154, 91, 163, 71, 250, 95, 258, 133, 237, 278, 345, 229, 70, 132, 289, 109, 176] 350\n"
          ],
          "name": "stdout"
        }
      ]
    },
    {
      "cell_type": "code",
      "metadata": {
        "colab": {
          "base_uri": "https://localhost:8080/"
        },
        "id": "8HkhWm0j9siq",
        "outputId": "15a61582-5282-46d8-997f-43a522c97295"
      },
      "source": [
        "#creating a new video where frames have been shuffled\n",
        "img_shuffle_list=[]\n",
        "for i,j in enumerate(arr):\n",
        "    img_shuffle_list.append(img_array[j])\n",
        "img_shuffle=np.array(img_shuffle_list)    \n",
        "print(img_shuffle.shape)    "
      ],
      "execution_count": null,
      "outputs": [
        {
          "output_type": "stream",
          "text": [
            "(350, 299, 299, 3)\n"
          ],
          "name": "stdout"
        }
      ]
    },
    {
      "cell_type": "code",
      "metadata": {
        "id": "XTVTJcReN-CM"
      },
      "source": [
        "#saving the shuffle video in a pickle file\n",
        "from pickle import dump,load\n",
        "filename = r'shuffle_video.pkl'\n",
        "dump(img_shuffle, open(filename, 'wb'))\n",
        "\n",
        "\n"
      ],
      "execution_count": null,
      "outputs": []
    },
    {
      "cell_type": "code",
      "metadata": {
        "colab": {
          "base_uri": "https://localhost:8080/"
        },
        "id": "Y_krGVkfGclr",
        "outputId": "fd69c670-a9a9-48d7-dba5-4492152abac9"
      },
      "source": [
        "#just to make sure shuffling was done properly and no frames was lost we are generating back original video from shuffled video \n",
        "#which we are saving in a  pickle file\n",
        "dict1 = dict(zip(arr, img_shuffle))\n",
        "sorted_items = sorted(dict1.items())\n",
        "img_shuffle_dummy=np.array((list(dict(sorted_items).values())))\n",
        "print(img_shuffle_dummy.shape)\n",
        " \n",
        "comparison = img_shuffle_dummy == img_array\n",
        "equal_arrays = comparison.all()\n",
        "print(equal_arrays)\n",
        "\n",
        "#original video and video reshuffled back from shuffled video are same. we can confirm shuffling was done properly with no information lost"
      ],
      "execution_count": null,
      "outputs": [
        {
          "output_type": "stream",
          "text": [
            "(350, 299, 299, 3)\n",
            "True\n"
          ],
          "name": "stdout"
        }
      ]
    },
    {
      "cell_type": "markdown",
      "metadata": {
        "id": "13BWJy5zVtTs"
      },
      "source": [
        "Creating encoding vectors of shuffled video after passing it through inception layer"
      ]
    },
    {
      "cell_type": "code",
      "metadata": {
        "id": "MyLBaPvk9sqq"
      },
      "source": [
        "inception_v3_model = inception_v3.InceptionV3(include_top=True,weights=\"imagenet\")\n",
        "#inception_v3_model.summary()\n",
        "model_inceptionv3 = Model(inception_v3_model.input, inception_v3_model.layers[-2].output)\n"
      ],
      "execution_count": null,
      "outputs": []
    },
    {
      "cell_type": "code",
      "metadata": {
        "colab": {
          "base_uri": "https://localhost:8080/"
        },
        "id": "sTCy7Tv2_jhj",
        "outputId": "fde8da82-39d8-4a10-ad24-1a2cb71c54b1"
      },
      "source": [
        "img_shuffle_encoded = preprocess_input(img_shuffle)\n",
        "img_shuffle_encoded = model_inceptionv3.predict(img_shuffle_encoded)\n",
        "print(img_shuffle_encoded.shape)\n",
        "\n"
      ],
      "execution_count": null,
      "outputs": [
        {
          "output_type": "stream",
          "text": [
            "(350, 2048)\n"
          ],
          "name": "stdout"
        }
      ]
    },
    {
      "cell_type": "markdown",
      "metadata": {
        "id": "Oy-74EG6WB3e"
      },
      "source": [
        "Passing the encoded vector through TSNE"
      ]
    },
    {
      "cell_type": "code",
      "metadata": {
        "colab": {
          "base_uri": "https://localhost:8080/"
        },
        "id": "Ac64OmzN_jkR",
        "outputId": "f0fdc19d-168a-4f09-8b1e-3055ceef5b6d"
      },
      "source": [
        "from sklearn.manifold import TSNE\n",
        "tsne_reorder = TSNE(n_components=1, verbose=1, perplexity=40, n_iter=2000,random_state=150)\n",
        "tsne_reorder_results = tsne_reorder.fit_transform(img_shuffle_encoded)\n"
      ],
      "execution_count": null,
      "outputs": [
        {
          "output_type": "stream",
          "text": [
            "[t-SNE] Computing 121 nearest neighbors...\n",
            "[t-SNE] Indexed 350 samples in 0.033s...\n",
            "[t-SNE] Computed neighbors for 350 samples in 0.458s...\n",
            "[t-SNE] Computed conditional probabilities for sample 350 / 350\n",
            "[t-SNE] Mean sigma: 4.186987\n",
            "[t-SNE] KL divergence after 250 iterations with early exaggeration: 56.631660\n",
            "[t-SNE] KL divergence after 1700 iterations: 0.231914\n"
          ],
          "name": "stdout"
        }
      ]
    },
    {
      "cell_type": "code",
      "metadata": {
        "colab": {
          "base_uri": "https://localhost:8080/",
          "height": 350
        },
        "id": "W5AaufbF_jnV",
        "outputId": "3d90b7ed-ff7d-4a61-c3ba-d4a8ea978583"
      },
      "source": [
        "import matplotlib.pyplot as plt\n",
        "import seaborn as sns\n",
        "\n",
        "import pandas as pd\n",
        "df = pd.DataFrame({'x axis':np.arange(tsne_reorder_results.shape[0]),'Y axis':tsne_reorder_results[:,0]})\n",
        "\n",
        "\n",
        "plt.figure(figsize=(8,5))\n",
        "sns.scatterplot(\n",
        "    x=\"x axis\", y=\"Y axis\",\n",
        "    palette=sns.color_palette(\"hls\", 10),\n",
        "    data=df,\n",
        "    legend=\"full\",\n",
        "    alpha=0.3\n",
        ")"
      ],
      "execution_count": null,
      "outputs": [
        {
          "output_type": "execute_result",
          "data": {
            "text/plain": [
              "<matplotlib.axes._subplots.AxesSubplot at 0x7f31277dbed0>"
            ]
          },
          "metadata": {
            "tags": []
          },
          "execution_count": 50
        },
        {
          "output_type": "display_data",
          "data": {
            "image/png": "[encoded data removed]",
            "text/plain": [
              "<Figure size 576x360 with 1 Axes>"
            ]
          },
          "metadata": {
            "tags": [],
            "needs_background": "light"
          }
        }
      ]
    },
    {
      "cell_type": "markdown",
      "metadata": {
        "id": "rkJKxjreWOug"
      },
      "source": [
        "As we can see no pattern which we were expecting as frames are out of order"
      ]
    },
    {
      "cell_type": "code",
      "metadata": {
        "id": "1iypvsSg9stk"
      },
      "source": [
        ""
      ],
      "execution_count": null,
      "outputs": []
    },
    {
      "cell_type": "code",
      "metadata": {
        "colab": {
          "base_uri": "https://localhost:8080/"
        },
        "id": "kyOErCjnw5zv",
        "outputId": "ae28ee74-8e93-41d5-82c5-4868dbd35219"
      },
      "source": [
        "print(tsne_reorder_results.min())\n",
        "print(tsne_reorder_results.max())\n",
        "tsne_reorder_results.shape"
      ],
      "execution_count": null,
      "outputs": [
        {
          "output_type": "stream",
          "text": [
            "-37.575275\n",
            "32.870728\n"
          ],
          "name": "stdout"
        },
        {
          "output_type": "execute_result",
          "data": {
            "text/plain": [
              "(350, 1)"
            ]
          },
          "metadata": {
            "tags": []
          },
          "execution_count": 51
        }
      ]
    },
    {
      "cell_type": "code",
      "metadata": {
        "colab": {
          "base_uri": "https://localhost:8080/"
        },
        "id": "k7jY0Sz-w52m",
        "outputId": "e026f3c3-307a-4620-d122-ba2099e3615a"
      },
      "source": [
        "#sorting the frame sequence as per TSNE values in ascending order, getting ids (frame number)\n",
        "reorder_id=np.argsort(tsne_reorder_results.squeeze())\n",
        "print(reorder_id)"
      ],
      "execution_count": null,
      "outputs": [
        {
          "output_type": "stream",
          "text": [
            "[315 229  37  35 280 274 325 265  52  13 108 234 134 154 257  97  38 270\n",
            " 102 124  54 199 215 166  85 111 320 208  22 276 252  27 141 144  62 193\n",
            " 300 100 165 117 178 130 182  92  47 295  32 287 328  65  91 307 224 149\n",
            " 202 241 260 249 244   0 319 191 302   8 245  64  12 110 345 272 161 336\n",
            " 132  70  84 258 152  44 281 322  50 242 133   7 143 126  25  95   9  18\n",
            "  45 334 285 314 338 312  90 175  21  81  98  46 290   2 228 321 327  26\n",
            "  55 348 316 271 114 200  59  88 233 256 254 158 203  23 187 169  39 163\n",
            "  17 115 298 160 323 263 346 340 331 189 119 310  15 247 129  76 231 275\n",
            " 131  78 196  82 324  24 227 333  67 305 105 266  63 306 150  57  74  40\n",
            "  28 235 335 283  42   3 205   5 188 277 180 221 303 151 155 349 167 197\n",
            " 116 147  29 139 230 293 190 176 106 297 246 140 296 236 181  49 125  68\n",
            " 286 301 148 137 142  75 113 195  20 136 157  56 210 170 294   1 138 194\n",
            "  89 145 332  33 313  72 278 248 107 216 214 122 299 344  34  83   4 251\n",
            "  96  10  36 341 206 168 240 218 217  66 104 156 207  61  53 164  80 337\n",
            " 162  19  58 192 261  71 183 211 279  77  11 103 262 343 238 209 284 172\n",
            " 127 120 339 292 232 317 267  51 243 220 259 135  87  31 288 237 342 204\n",
            " 123 179 250 225 171  48 291  73 329 289 153 347 198  94 219  16 146 185\n",
            " 121 226 253 330 201 268 282   6  43  93 101 174 239  99 118 223 311 186\n",
            "  30 184  86  69 173 326 128  60 318 212 255 222 177 112 159  14 109 269\n",
            " 309 304 264 273 308 213  41  79]\n"
          ],
          "name": "stdout"
        }
      ]
    },
    {
      "cell_type": "code",
      "metadata": {
        "id": "fAUd7Rj4w55N"
      },
      "source": [
        "#Creating new video as per TSNE results , frames with lower value will be placed before frames with higher values \n",
        "\n",
        "img_shuffle_result_list=[]\n",
        "for i,j in enumerate(reorder_id):\n",
        "    img_shuffle_result_list.append(img_shuffle[j])\n",
        "img_shuffle_result=np.array(img_shuffle_result_list)    "
      ],
      "execution_count": null,
      "outputs": []
    },
    {
      "cell_type": "code",
      "metadata": {
        "id": "9sewGjIYw58N"
      },
      "source": [
        "#output video generated from out of shuffle frame, storing in a pickle file\n",
        "from pickle import dump,load\n",
        "filename = r'video_shuffle_result.pkl'\n",
        "dump(img_shuffle_result, open(filename, 'wb'))"
      ],
      "execution_count": null,
      "outputs": []
    },
    {
      "cell_type": "code",
      "metadata": {
        "id": "klTRs3oUw5-1"
      },
      "source": [
        "#refer file Play_video to play video"
      ],
      "execution_count": null,
      "outputs": []
    },
    {
      "cell_type": "code",
      "metadata": {
        "id": "jxwdvA-6w6Bl"
      },
      "source": [
        ""
      ],
      "execution_count": null,
      "outputs": []
    },
    {
      "cell_type": "code",
      "metadata": {
        "id": "BibLH24rw6Et"
      },
      "source": [
        ""
      ],
      "execution_count": null,
      "outputs": []
    }
  ]
}