{
 "cells": [
  {
   "cell_type": "code",
   "execution_count": 14,
   "metadata": {},
   "outputs": [],
   "source": [
    "import cv2\n",
    "import numpy as np\n",
    "from numpy.random import seed\n",
    "from pickle import dump,load"
   ]
  },
  {
   "cell_type": "code",
   "execution_count": 16,
   "metadata": {},
   "outputs": [],
   "source": [
    "#function to play video\n",
    "def play_video(name):\n",
    "    filename = name\n",
    "    img_reorder_pk = load(open(filename, 'rb')) \n",
    "    print(img_reorder_pk.shape)\n",
    "    for i,j in enumerate(img_reorder_pk):\n",
    "        cv2.imshow('Frame',cv2.cvtColor(img_reorder_pk[i], cv2.COLOR_BGR2RGB))\n",
    "        if cv2.waitKey(50) & 0xFF == ord('q'):\n",
    "          break\n",
    "    cv2.destroyAllWindows()    \n",
    "    print(filename)"
   ]
  },
  {
   "cell_type": "markdown",
   "metadata": {},
   "source": [
    "# Original Video"
   ]
  },
  {
   "cell_type": "code",
   "execution_count": 17,
   "metadata": {},
   "outputs": [
    {
     "name": "stdout",
     "output_type": "stream",
     "text": [
      "(350, 299, 299, 3)\n",
      "original_video.pkl\n"
     ]
    }
   ],
   "source": [
    "play_video(r'original_video.pkl')"
   ]
  },
  {
   "cell_type": "markdown",
   "metadata": {},
   "source": [
    "# Output Video generated on original video"
   ]
  },
  {
   "cell_type": "code",
   "execution_count": 18,
   "metadata": {},
   "outputs": [
    {
     "name": "stdout",
     "output_type": "stream",
     "text": [
      "(350, 299, 299, 3)\n",
      "original_video_result.pkl\n"
     ]
    }
   ],
   "source": [
    " play_video(r'original_video_result.pkl')"
   ]
  },
  {
   "cell_type": "markdown",
   "metadata": {},
   "source": [
    "# Shuffled Video"
   ]
  },
  {
   "cell_type": "code",
   "execution_count": 19,
   "metadata": {},
   "outputs": [
    {
     "name": "stdout",
     "output_type": "stream",
     "text": [
      "(350, 299, 299, 3)\n",
      "shuffle_video.pkl\n"
     ]
    }
   ],
   "source": [
    " play_video(r'shuffle_video.pkl')"
   ]
  },
  {
   "cell_type": "markdown",
   "metadata": {},
   "source": [
    "# Output Video generated on Shuffled video\n"
   ]
  },
  {
   "cell_type": "code",
   "execution_count": 20,
   "metadata": {},
   "outputs": [
    {
     "name": "stdout",
     "output_type": "stream",
     "text": [
      "(350, 299, 299, 3)\n",
      "video_shuffle_result.pkl\n"
     ]
    }
   ],
   "source": [
    " play_video(r'video_shuffle_result.pkl')"
   ]
  }
 ],
 "metadata": {
  "kernelspec": {
   "display_name": "Python 3",
   "language": "python",
   "name": "python3"
  },
  "language_info": {
   "codemirror_mode": {
    "name": "ipython",
    "version": 3
   },
   "file_extension": ".py",
   "mimetype": "text/x-python",
   "name": "python",
   "nbconvert_exporter": "python",
   "pygments_lexer": "ipython3",
   "version": "3.8.3"
  }
 },
 "nbformat": 4,
 "nbformat_minor": 4
}
